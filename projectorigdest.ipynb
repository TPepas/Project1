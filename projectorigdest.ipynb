{
 "cells": [
  {
   "cell_type": "code",
   "execution_count": null,
   "metadata": {},
   "outputs": [],
   "source": [
    "import pandas as pd\n",
    "file = open('/blue/bsc4452/share/Class_Files/data/flights.May2020-April2022.csv')\n",
    "columns = ['FL_DATE', 'ORIGIN', 'DEST', 'ARR_DELAY_NEW']\n",
    "df = pd.read_csv(file, usecols=columns)\n",
    "\n",
    "#convert dates to weekdays\n",
    "df['FL_DATE'] = pd.to_datetime(df['FL_DATE'], format='%m/%d/%Y %H:%M:%S AM')\n",
    "df['FL_DATE'] = df['FL_DATE'].dt.day_name()\n",
    "\n",
    "#function to get average delays for each weekday\n",
    "def weekdayavg(orig, dest):\n",
    "    global Weekday\n",
    "    global Avg_Delay\n",
    "    global daydict\n",
    "    monavg = tueavg = wedavg = thuavg = friavg = satavg = sunavg = None\n",
    "    Weekday = ['Monday', 'Tuesday', 'Wednesday', 'Thursday', 'Friday', 'Saturday', 'Sunday']\n",
    "    daydict = {}\n",
    "    mon = df[(df.ORIGIN==orig) & (df.DEST==dest) & (df.FL_DATE=='Monday')]\n",
    "    monavg = mon['ARR_DELAY_NEW'].mean()\n",
    "    tue = df[(df.ORIGIN==orig) & (df.DEST==dest) & (df.FL_DATE=='Tuesday')]\n",
    "    tueavg = tue['ARR_DELAY_NEW'].mean()\n",
    "    wed = df[(df.ORIGIN==orig) & (df.DEST==dest) & (df.FL_DATE=='Wednseday')]\n",
    "    wedavg = wed['ARR_DELAY_NEW'].mean()\n",
    "    thu = df[(df.ORIGIN==orig) & (df.DEST==dest) & (df.FL_DATE=='Thursday')]\n",
    "    thuavg = thu['ARR_DELAY_NEW'].mean()\n",
    "    fri = df[(df.ORIGIN==orig) & (df.DEST==dest) & (df.FL_DATE=='Friday')]\n",
    "    friavg = fri['ARR_DELAY_NEW'].mean()\n",
    "    sat = df[(df.ORIGIN==orig) & (df.DEST==dest) & (df.FL_DATE=='Saturday')]\n",
    "    satavg = sat['ARR_DELAY_NEW'].mean()\n",
    "    sun = df[(df.ORIGIN==orig) & (df.DEST==dest) & (df.FL_DATE=='Sunday')]\n",
    "    sunavg = sun['ARR_DELAY_NEW'].mean()\n",
    "    Avg_Delay = [monavg, tueavg, wedavg, thuavg, friavg, satavg, sunavg]\n",
    "    daydict = {Weekday[i]:Avg_Delay[i] for i in range(len(Weekday))}\n",
    "\n",
    "orig = input('Input the origin airport code:').upper()\n",
    "dest = input('Input the destination airport code:').upper()\n",
    "\n",
    "if len((df[(df['ORIGIN']==orig) & (df['DEST']==dest)])) == 0:\n",
    "    print('There are no flights from ' + orig + ' to ' + dest + ', or you mistyped the airport codes.')\n",
    "else:    \n",
    "    weekdayavg(orig, dest)\n",
    "    print('The best day to schedule a flight from ' + orig + ' to ' + dest + ' is ' + min(daydict, key=daydict.get) + '.')  "
   ]
  },
  {
   "cell_type": "code",
   "execution_count": null,
   "metadata": {},
   "outputs": [],
   "source": []
  }
 ],
 "metadata": {
  "kernelspec": {
   "display_name": "UFRC Python-3.10",
   "language": "python",
   "name": "python3-3.10-ufrc"
  },
  "language_info": {
   "codemirror_mode": {
    "name": "ipython",
    "version": 3
   },
   "file_extension": ".py",
   "mimetype": "text/x-python",
   "name": "python",
   "nbconvert_exporter": "python",
   "pygments_lexer": "ipython3",
   "version": "3.10.5"
  }
 },
 "nbformat": 4,
 "nbformat_minor": 4
}
